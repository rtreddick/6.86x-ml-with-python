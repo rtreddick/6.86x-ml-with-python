{
 "cells": [
  {
   "cell_type": "code",
   "execution_count": 24,
   "metadata": {},
   "outputs": [
    {
     "name": "stdout",
     "output_type": "stream",
     "text": [
      "[LibLinear]............................................................................................**.*...*.*..**.\n",
      "optimization finished, #iter = 1000\n",
      "\n",
      "WARNING: reaching max number of iterations\n",
      "Using -s 2 may be faster (also see FAQ)\n",
      "\n",
      "Objective value = -13.500000\n",
      "nSV = 3\n",
      "[-4.99965951]\n",
      "[[0.99993169 0.99989806]]\n"
     ]
    },
    {
     "name": "stderr",
     "output_type": "stream",
     "text": [
      "/Users/timreddick/miniconda3/envs/6.86x/lib/python3.8/site-packages/sklearn/svm/_base.py:1206: ConvergenceWarning: Liblinear failed to converge, increase the number of iterations.\n",
      "  warnings.warn(\n"
     ]
    }
   ],
   "source": [
    "import numpy as np\n",
    "from sklearn.svm import LinearSVC\n",
    "from sklearn.svm import SVC\n",
    "\n",
    "train_x = np.array([(0,0), (2,0), (3,0), (0,2), (2,2), (5,1), (5,2), (2,4), (4,4), (5,5)])\n",
    "train_y = (-1, -1, -1, -1, -1, 1, 1, 1, 1, 1)\n",
    "clf = LinearSVC(C=100e+20, random_state=0, verbose=1)\n",
    "clf.fit(train_x, train_y)\n",
    "print(clf.intercept_)\n",
    "print(clf.coef_)\n",
    "\n",
    "\n",
    "\n",
    "# def one_vs_rest_svm(train_x, train_y, test_x):\n",
    "#     \"\"\"\n",
    "#     Trains a linear SVM for binary classifciation\n",
    "\n",
    "#     Args:\n",
    "#         train_x - (n, d) NumPy array (n datapoints each with d features)\n",
    "#         train_y - (n, ) NumPy array containing the labels (0 or 1) for each training data point\n",
    "#         test_x - (m, d) NumPy array (m datapoints each with d features)\n",
    "#     Returns:\n",
    "#         pred_test_y - (m,) NumPy array containing the labels (0 or 1) for each test data point\n",
    "#     \"\"\"\n",
    "#     clf = LinearSVC(C=0.001, random_state=0)\n",
    "#     clf.fit(train_x, train_y)\n",
    "#     y_predict = clf.predict(test_x)\n",
    "#     return y_predict"
   ]
  },
  {
   "cell_type": "code",
   "execution_count": null,
   "metadata": {},
   "outputs": [],
   "source": [
    "def calc_hinge_loss(x,y,params):\n",
    "   pass "
   ]
  },
  {
   "cell_type": "code",
   "execution_count": 98,
   "metadata": {},
   "outputs": [
    {
     "name": "stdout",
     "output_type": "stream",
     "text": [
      "[ 9.         12.72792206  9.        ]\n",
      "[ 21.       -22.627417  22.      ]\n",
      "[-110]\n"
     ]
    }
   ],
   "source": [
    "# 2 (2)\n",
    "\n",
    "train_y = np.array([-1, -1, -1, -1, -1, 1, 1, 1, 1, 1])\n",
    "train_x = np.array([(0,0), (2,0), (1,1), (0,2), (3,3), (4,1), (5,2), (1,4), (4,4), (5,5)])\n",
    "alpha = np.array([1, 65, 11, 31, 72, 30, 0, 21, 4, 15])\n",
    "phi_x = np.array([(x1**2, np.sqrt(2)*x1*x2, x2**2) for (x1, x2) in train_x])\n",
    "\n",
    "train_y.resize(10,1)\n",
    "alpha.resize(10,1)\n",
    "theta = np.sum(alpha * train_y * phi_x, axis=0)\n",
    "theta_0 = sum(train_y * alpha)\n",
    "\n",
    "print(phi_x[4])\n",
    "print(theta)\n",
    "print(theta_0)"
   ]
  },
  {
   "cell_type": "code",
   "execution_count": 108,
   "metadata": {},
   "outputs": [
    {
     "data": {
      "text/plain": [
       "[0, 0, 0, 0, 0, 0, 0, 0, 0, 0]"
      ]
     },
     "execution_count": 108,
     "metadata": {},
     "output_type": "execute_result"
    }
   ],
   "source": [
    "def hinge_loss(x, y, theta, theta_0):\n",
    "    z = y * (np.dot(theta, x) + theta_0)\n",
    "    return max(0, 1-z)\n",
    "\n",
    "hinge_loss(phi_x[4], train_y[4], theta, theta_0)\n",
    "\n",
    "def total_loss(x, y, theta, theta_0):\n",
    "    return [hinge_loss(xi, yi, theta, theta_0) for xi, yi in zip(x, y)]\n",
    "    return sum([hinge_loss(xi, yi, theta, theta_0) for xi, yi in zip(x, y)])\n",
    "\n",
    "total_loss(phi_x, train_y, theta, theta_0)"
   ]
  },
  {
   "cell_type": "code",
   "execution_count": null,
   "metadata": {},
   "outputs": [],
   "source": []
  }
 ],
 "metadata": {
  "kernelspec": {
   "display_name": "Python 3.8.0 ('6.86x')",
   "language": "python",
   "name": "python3"
  },
  "language_info": {
   "codemirror_mode": {
    "name": "ipython",
    "version": 3
   },
   "file_extension": ".py",
   "mimetype": "text/x-python",
   "name": "python",
   "nbconvert_exporter": "python",
   "pygments_lexer": "ipython3",
   "version": "3.8.0"
  },
  "orig_nbformat": 4,
  "vscode": {
   "interpreter": {
    "hash": "de3c63369a484d911f8bc6207db464beb71a07f6fafb161be5ed39101480d65d"
   }
  }
 },
 "nbformat": 4,
 "nbformat_minor": 2
}
