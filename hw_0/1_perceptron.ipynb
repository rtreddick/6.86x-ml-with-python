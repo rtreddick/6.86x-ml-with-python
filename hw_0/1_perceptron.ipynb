{
 "cells": [
  {
   "cell_type": "code",
   "execution_count": 15,
   "metadata": {},
   "outputs": [],
   "source": [
    "import numpy as np\n",
    "\n",
    "def perceptron(items, start_index=0):\n",
    "\n",
    "    items = [*items[start_index:], *items[:start_index]] if start_index else items\n",
    "    theta = np.zeros(len(items[0][0]))\n",
    "    thetas = [theta]\n",
    "    mistake = 0\n",
    "    mistake_count = 0\n",
    "    \n",
    "    while True:\n",
    "\n",
    "        for index, (point, label) in enumerate(items):\n",
    "\n",
    "            if label*np.matmul(theta.transpose(), point) <= 0:\n",
    "                theta = theta + label*point\n",
    "                thetas.append(theta)\n",
    "                mistake = index\n",
    "                mistake_count += 1\n",
    "            elif index == mistake:\n",
    "                return thetas, mistake_count\n"
   ]
  },
  {
   "cell_type": "code",
   "execution_count": 16,
   "metadata": {},
   "outputs": [
    {
     "name": "stdout",
     "output_type": "stream",
     "text": [
      "thetas: [array([0., 0.]), array([-1., -1.]), array([-2. ,  0.5])]\n",
      "mistakes: 2\n"
     ]
    }
   ],
   "source": [
    "points = [np.array(point) for point in [(-1,-1), (1,0), (-1,1.5)]]\n",
    "labels = [1, -1, 1]\n",
    "items = [*zip(points, labels)]\n",
    "\n",
    "result = perceptron(items, start_index=0)\n",
    "print(f\"thetas: {result[0]}\")\n",
    "print(f\"mistakes: {result[1]}\")"
   ]
  },
  {
   "cell_type": "code",
   "execution_count": 19,
   "metadata": {},
   "outputs": [
    {
     "name": "stdout",
     "output_type": "stream",
     "text": [
      "thetas: [array([0., 0.]), array([-1., -1.]), array([-2.,  9.]), array([-3.,  8.]), array([-4.,  7.]), array([-5.,  6.]), array([-6.,  5.])]\n",
      "mistakes: 6\n",
      "1.0\n",
      "6.0\n",
      "56.0\n"
     ]
    }
   ],
   "source": [
    "points = [np.array(point) for point in [(-1,-1), (1,0), (-1,10)]]\n",
    "labels = [1, -1, 1]\n",
    "items = [*zip(points, labels)]\n",
    "\n",
    "result = perceptron(items, start_index=0)\n",
    "print(f\"thetas: {result[0]}\")\n",
    "print(f\"mistakes: {result[1]}\")\n",
    "\n",
    "theta = result[0][6]\n",
    "\n",
    "for point, label in items:\n",
    "    print(label*np.matmul(theta.transpose(), point))"
   ]
  },
  {
   "cell_type": "code",
   "execution_count": null,
   "metadata": {},
   "outputs": [],
   "source": []
  }
 ],
 "metadata": {
  "interpreter": {
   "hash": "de82e9cc2c468cf27eccffd07c2bf6de77dc3502e27910382ff37db2ea5c9834"
  },
  "kernelspec": {
   "display_name": "Python 3.8.13 ('6.86x')",
   "language": "python",
   "name": "python3"
  },
  "language_info": {
   "codemirror_mode": {
    "name": "ipython",
    "version": 3
   },
   "file_extension": ".py",
   "mimetype": "text/x-python",
   "name": "python",
   "nbconvert_exporter": "python",
   "pygments_lexer": "ipython3",
   "version": "3.8.13"
  },
  "orig_nbformat": 4
 },
 "nbformat": 4,
 "nbformat_minor": 2
}
