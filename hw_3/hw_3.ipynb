{
 "cells": [
  {
   "cell_type": "code",
   "execution_count": 3,
   "metadata": {},
   "outputs": [
    {
     "name": "stdout",
     "output_type": "stream",
     "text": [
      "[15  0]\n",
      "[9.99999694e-01 3.05902227e-07]\n"
     ]
    }
   ],
   "source": [
    "# Q1\n",
    "\n",
    "import numpy as np\n",
    "\n",
    "W = np.array([\n",
    "    [1,0,-1],\n",
    "    [0,1,-1],\n",
    "    [-1,0,-1],\n",
    "    [0,-1,-1]\n",
    "])\n",
    "\n",
    "V = np.array([\n",
    "    [1,1,1,1,0],\n",
    "    [-1,-1,-1,-1,2]\n",
    "])\n",
    "\n",
    "def ReLU(output):\n",
    "    return np.vectorize(lambda x: max(x, 0))(output)\n",
    "\n",
    "def softmax(outputs):\n",
    "    reg_term = sum(np.exp(outputs))\n",
    "    return np.vectorize(lambda x: np.exp(x)/reg_term)(outputs)\n",
    "\n",
    "input = np.array([3, 14])\n",
    "fZ = ReLU(np.dot(W, np.append(input, 1)))\n",
    "fU = ReLU(np.dot(V, np.append(fZ, 1)))\n",
    "result = softmax(fU)\n",
    "\n",
    "print(fU)\n",
    "print(result)"
   ]
  },
  {
   "cell_type": "code",
   "execution_count": 29,
   "metadata": {},
   "outputs": [
    {
     "name": "stdout",
     "output_type": "stream",
     "text": [
      "[1, -1, 0, 1, -1]\n"
     ]
    }
   ],
   "source": [
    "# Q2\n",
    "\n",
    "import numpy as np\n",
    "\n",
    "Wfh = 0\n",
    "Wih = 0\n",
    "Woh = 0\n",
    "Wfx = 0\n",
    "Wix = 100\n",
    "Wox = 100\n",
    "bf = -100\n",
    "bi = 100\n",
    "bo = 0\n",
    "Wch = -100\n",
    "Wcx = 50\n",
    "bc = 0\n",
    "\n",
    "xs = [0,0,1,1,1,0]\n",
    "xs_2 = [1,1,0,1,1]\n",
    "\n",
    "def approx_sigmoid(input) -> int:\n",
    "    if input >= 1:\n",
    "        return 1\n",
    "    elif input <= -1:\n",
    "        return 0\n",
    "    else:\n",
    "        return 1 / (1 + np.exp(-input))\n",
    "\n",
    "def approx_tanh(input) -> int:\n",
    "    if input >= 1:\n",
    "        return 1\n",
    "    elif input <= -1:\n",
    "        return -1\n",
    "    else:\n",
    "        return np.tanh(input)\n",
    "\n",
    "def LSTM_step(x,h,c):\n",
    "\n",
    "    ft = approx_sigmoid(Wfh * h + Wfx * x + bf)\n",
    "    it = approx_sigmoid(Wih * h + Wix * x + bi)\n",
    "    ot = approx_sigmoid(Woh * h + Wox * x + bo)\n",
    "    ct = ft * c + it * approx_tanh(Wch * h + Wcx * x + bc)\n",
    "    ht = ot * approx_tanh(ct)\n",
    "    return ct, ht\n",
    "\n",
    "def LSTM(xs,h,c):\n",
    "\n",
    "    h = h\n",
    "    c = c\n",
    "    hs = []\n",
    "\n",
    "    for x in xs:\n",
    "        c, h = LSTM_step(x,h,c)\n",
    "        h = round(h)\n",
    "        hs.append(h)\n",
    "\n",
    "    return hs\n",
    "\n",
    "# print(LSTM(xs, 0, 0))\n",
    "print(LSTM(xs_2, 0, 0))\n"
   ]
  },
  {
   "cell_type": "code",
   "execution_count": null,
   "metadata": {},
   "outputs": [],
   "source": [
    "# Q2\n",
    "# starting playing around with factory function\n",
    "\n",
    "# Wfh = 0\n",
    "# Wih = 0\n",
    "# Woh = 0\n",
    "# Wfx = 0\n",
    "# Wix = 100\n",
    "# Wox = 100\n",
    "# bf = -100\n",
    "# bi = 100\n",
    "# bo = 0\n",
    "# Wch = -100\n",
    "# Wcx = 50\n",
    "# bc = 0\n",
    "\n",
    "# xs = [0,0,1,1,1,0]\n",
    "\n",
    "# class GateMaker:\n",
    "#     def\n",
    "\n",
    "# class Gate:\n",
    "#     def __init__(self, Wh, Wx, bf, ):\n",
    "#         self.Wh = Wh\n",
    "#         self.Wx = Wx\n",
    "#         self.bf = bf\n",
    "\n",
    "#     def apply(self, h, x):\n",
    "\n",
    "\n",
    "# def sigmoid(input):\n",
    "\n",
    "\n",
    "# def _create_input_gate():\n",
    "#     pass\n",
    "\n",
    "# def _create_output_gate():\n",
    "#     pass\n",
    "\n",
    "# def _create_forget_gate():\n",
    "#     pass"
   ]
  }
 ],
 "metadata": {
  "kernelspec": {
   "display_name": "Python 3.8.0 ('6.86x')",
   "language": "python",
   "name": "python3"
  },
  "language_info": {
   "codemirror_mode": {
    "name": "ipython",
    "version": 3
   },
   "file_extension": ".py",
   "mimetype": "text/x-python",
   "name": "python",
   "nbconvert_exporter": "python",
   "pygments_lexer": "ipython3",
   "version": "3.8.0"
  },
  "orig_nbformat": 4,
  "vscode": {
   "interpreter": {
    "hash": "de3c63369a484d911f8bc6207db464beb71a07f6fafb161be5ed39101480d65d"
   }
  }
 },
 "nbformat": 4,
 "nbformat_minor": 2
}
