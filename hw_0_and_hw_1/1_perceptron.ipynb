{
 "cells": [
  {
   "cell_type": "code",
   "execution_count": 1,
   "metadata": {},
   "outputs": [],
   "source": [
    "import numpy as np\n",
    "\n",
    "def perceptron(points, labels, start_index=0):\n",
    "    '''\n",
    "    points is list of points\n",
    "    label is list of ints -1 or 1\n",
    "    start_index sets the starting point for iterating through points\n",
    "    '''\n",
    "\n",
    "    items = [*zip(points, labels)]\n",
    "    items = [*items[start_index:], *items[:start_index]] if start_index else items\n",
    "    theta = np.zeros(len(items[0][0]))\n",
    "    thetas = [theta]\n",
    "    mistake = 0\n",
    "    mistakes = {point: 0 for point in points}\n",
    "    \n",
    "    # iterate through points until success\n",
    "    while True:\n",
    "\n",
    "        for index, (point, label) in enumerate(items):\n",
    "\n",
    "            if label*np.matmul(theta.transpose(), np.array(point)) <= 0:\n",
    "                theta = theta + label*np.array(point)\n",
    "                thetas.append(theta)\n",
    "                mistake = index\n",
    "                mistakes[point] = mistakes.get(point, 0) + 1\n",
    "            \n",
    "            # if return to the same point with no more mistakes, return progression of thetas\n",
    "            elif index == mistake:\n",
    "                return thetas, sum(mistakes.values()), mistakes\n"
   ]
  },
  {
   "cell_type": "code",
   "execution_count": null,
   "metadata": {},
   "outputs": [],
   "source": [
    "start_index = 0\n",
    "points = [(-1,-1), (1,0), (-1,1.5)]\n",
    "labels = [1, -1, 1]\n",
    "result = perceptron(points, labels, start_index=start_index)\n",
    "\n",
    "print(f\"thetas: {result[0]}\")\n",
    "print(f\"total mistakes: {result[1]}\")\n",
    "print(f\"mistakes by point:\")\n",
    "for key, val in result[2].items():\n",
    "    print(f\"{key}: {val}\")\n"
   ]
  },
  {
   "cell_type": "code",
   "execution_count": null,
   "metadata": {},
   "outputs": [],
   "source": [
    "start_index = 1\n",
    "points = [(-1,-1), (1,0), (-1,1.5)]\n",
    "labels = [1, -1, 1]\n",
    "result = perceptron(points, labels, start_index=start_index)\n",
    "\n",
    "print(f\"thetas: {result[0]}\")\n",
    "print(f\"total mistakes: {result[1]}\")\n",
    "print(f\"mistakes by point:\")\n",
    "for key, val in result[2].items():\n",
    "    print(f\"{key}: {val}\")"
   ]
  },
  {
   "cell_type": "code",
   "execution_count": null,
   "metadata": {},
   "outputs": [],
   "source": [
    "# now update x2 to (-1, 10), start at x1\n",
    "start_index = 0\n",
    "points = [(-1,-1), (1,0), (-1,10)]\n",
    "labels = [1, -1, 1]\n",
    "result = perceptron(points, labels, start_index=start_index)\n",
    "\n",
    "print(f\"thetas: {result[0]}\")\n",
    "print(f\"total mistakes: {result[1]}\")\n",
    "print(f\"mistakes by point:\")\n",
    "for key, val in result[2].items():\n",
    "    print(f\"{key}: {val}\")\n",
    "\n",
    "# # list for pasting into edx\n",
    "# thetas = [point.tolist() for point in result[0]][1:]\n",
    "# print(thetas)"
   ]
  },
  {
   "cell_type": "code",
   "execution_count": null,
   "metadata": {},
   "outputs": [],
   "source": [
    "# now start at x2\n",
    "start_index = 1\n",
    "points = [(-1,-1), (1,0), (-1,10)]\n",
    "labels = [1, -1, 1]\n",
    "result = perceptron(points, labels, start_index=start_index)\n",
    "\n",
    "print(f\"thetas: {result[0]}\")\n",
    "print(f\"total mistakes: {result[1]}\")\n",
    "print(f\"mistakes by point:\")\n",
    "for key, val in result[2].items():\n",
    "    print(f\"{key}: {val}\")\n",
    "\n",
    "# # list for pasting into edx\n",
    "# thetas = [point.tolist() for point in result[0]][1:]\n",
    "# print(thetas)"
   ]
  },
  {
   "cell_type": "markdown",
   "metadata": {},
   "source": [
    "2. Perceptron Performance"
   ]
  },
  {
   "cell_type": "code",
   "execution_count": 2,
   "metadata": {},
   "outputs": [
    {
     "ename": "",
     "evalue": "",
     "output_type": "error",
     "traceback": [
      "\u001b[1;31mThe Kernel crashed while executing code in the the current cell or a previous cell. Please review the code in the cell(s) to identify a possible cause of the failure. Click <a href='https://aka.ms/vscodeJupyterKernelCrash'>here</a> for more info. View Jupyter <a href='command:jupyter.viewOutput'>log</a> for further details."
     ]
    },
    {
     "ename": "",
     "evalue": "",
     "output_type": "error",
     "traceback": [
      "\u001b[1;31mCanceled future for execute_request message before replies were done"
     ]
    }
   ],
   "source": [
    "start_index = 0\n",
    "points = [(-4,2), (-2,1), (-1,-1), (2,2), (1,-2)]\n",
    "labels = [1, 1, -1, -1, -1]\n",
    "result = perceptron(points, labels, start_index=start_index)\n",
    "\n",
    "print(f\"thetas: {result[0]}\")\n",
    "print(f\"total mistakes: {result[1]}\")\n",
    "print(f\"mistakes by point:\")\n",
    "for key, val in result[2].items():\n",
    "    print(f\"{key}: {val}\")"
   ]
  }
 ],
 "metadata": {
  "interpreter": {
   "hash": "de82e9cc2c468cf27eccffd07c2bf6de77dc3502e27910382ff37db2ea5c9834"
  },
  "kernelspec": {
   "display_name": "Python 3.8.13 ('6.86x')",
   "language": "python",
   "name": "python3"
  },
  "language_info": {
   "codemirror_mode": {
    "name": "ipython",
    "version": 3
   },
   "file_extension": ".py",
   "mimetype": "text/x-python",
   "name": "python",
   "nbconvert_exporter": "python",
   "pygments_lexer": "ipython3",
   "version": "3.8.13"
  },
  "orig_nbformat": 4
 },
 "nbformat": 4,
 "nbformat_minor": 2
}
