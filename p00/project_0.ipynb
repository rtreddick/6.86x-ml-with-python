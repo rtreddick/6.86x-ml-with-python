{
 "cells": [
  {
   "cell_type": "code",
   "execution_count": 2,
   "metadata": {},
   "outputs": [],
   "source": [
    "import numpy as np"
   ]
  },
  {
   "cell_type": "markdown",
   "metadata": {},
   "source": [
    "### 4. Intro to Numpy\n",
    "Randomization"
   ]
  },
  {
   "cell_type": "code",
   "execution_count": 4,
   "metadata": {},
   "outputs": [
    {
     "data": {
      "text/plain": [
       "array([[0.56969357],\n",
       "       [0.755573  ],\n",
       "       [0.07594016],\n",
       "       [0.06672602],\n",
       "       [0.86668859]])"
      ]
     },
     "execution_count": 4,
     "metadata": {},
     "output_type": "execute_result"
    }
   ],
   "source": [
    "def randomization(n):\n",
    "    \"\"\"\n",
    "    Arg:\n",
    "      n - an integer\n",
    "    Returns:\n",
    "      A - a randomly-generated nx1 Numpy array.\n",
    "    \"\"\"\n",
    "    return np.random.random([n,1])\n",
    "    raise NotImplementedError\n",
    "\n",
    "randomization(5)"
   ]
  },
  {
   "cell_type": "markdown",
   "metadata": {},
   "source": [
    "Operations"
   ]
  },
  {
   "cell_type": "code",
   "execution_count": 5,
   "metadata": {},
   "outputs": [
    {
     "data": {
      "text/plain": [
       "(array([[0.02144954, 0.44620467, 0.42705005],\n",
       "        [0.88078357, 0.07867086, 0.42715041]]),\n",
       " array([[0.29570833, 0.38134556, 0.07833561],\n",
       "        [0.52496615, 0.54195719, 0.47828489]]),\n",
       " array([[0.31715787, 0.82755023, 0.50538566],\n",
       "        [1.40574973, 0.62062805, 0.9054353 ]]))"
      ]
     },
     "execution_count": 5,
     "metadata": {},
     "output_type": "execute_result"
    }
   ],
   "source": [
    "def operations(h, w):\n",
    "    \"\"\"\n",
    "    Takes two inputs, h and w, and makes two Numpy arrays A and B of size\n",
    "    h x w, and returns A, B, and s, the sum of A and B.\n",
    "\n",
    "    Arg:\n",
    "      h - an integer describing the height of A and B\n",
    "      w - an integer describing the width of A and B\n",
    "    Returns (in this order):\n",
    "      A - a randomly-generated h x w Numpy array.\n",
    "      B - a randomly-generated h x w Numpy array.\n",
    "      s - the sum of A and B.\n",
    "    \"\"\"\n",
    "    A, B = np.random.random([h,w]), np.random.random([h,w])\n",
    "    s = A + B\n",
    "    return A, B, s\n",
    "    raise NotImplementedError\n",
    "\n",
    "operations(2,3)"
   ]
  },
  {
   "cell_type": "markdown",
   "metadata": {},
   "source": [
    "Norm"
   ]
  },
  {
   "cell_type": "code",
   "execution_count": 6,
   "metadata": {},
   "outputs": [
    {
     "data": {
      "text/plain": [
       "1.7486114909714816"
      ]
     },
     "execution_count": 6,
     "metadata": {},
     "output_type": "execute_result"
    }
   ],
   "source": [
    "def norm(A, B):\n",
    "    \"\"\"\n",
    "    Takes two Numpy column arrays, A and B, and returns the L2 norm of their\n",
    "    sum.\n",
    "\n",
    "    Arg:\n",
    "      A - a Numpy array\n",
    "      B - a Numpy array\n",
    "    Returns:\n",
    "      s - the L2 norm of A+B.\n",
    "    \"\"\"\n",
    "    return np.linalg.norm(A+B)\n",
    "    raise NotImplementedError\n",
    "\n",
    "dim = [3, 1]\n",
    "A, B = np.random.random(dim), np.random.random(dim)\n",
    "norm(A, B)"
   ]
  },
  {
   "cell_type": "markdown",
   "metadata": {},
   "source": [
    "### 5. Exercise\n",
    "Neural Network"
   ]
  },
  {
   "cell_type": "code",
   "execution_count": 42,
   "metadata": {},
   "outputs": [
    {
     "data": {
      "text/plain": [
       "0.9640275800758169"
      ]
     },
     "execution_count": 42,
     "metadata": {},
     "output_type": "execute_result"
    }
   ],
   "source": [
    "def neural_network(inputs, weights):\n",
    "    \"\"\"\n",
    "     Takes an input vector and runs it through a 1-layer neural network\n",
    "     with a given weight matrix and returns the output.\n",
    "\n",
    "     Arg:\n",
    "       inputs - 2 x 1 NumPy array\n",
    "       weights - 2 x 1 NumPy array\n",
    "     Returns (in this order):\n",
    "       out - a 1 x 1 NumPy array, representing the output of the neural network\n",
    "    \"\"\"\n",
    "    \n",
    "    return np.tanh(np.matmul(np.transpose(inputs),weights))\n",
    "\n",
    "x = np.array([1,2])\n",
    "w = np.array([0.5, 0.75])\n",
    "\n",
    "neural_network(x,w)\n"
   ]
  },
  {
   "cell_type": "markdown",
   "metadata": {},
   "source": [
    "### 6. Vectorize function\n",
    "Scalar function"
   ]
  },
  {
   "cell_type": "code",
   "execution_count": 9,
   "metadata": {},
   "outputs": [
    {
     "data": {
      "text/plain": [
       "2.0"
      ]
     },
     "execution_count": 9,
     "metadata": {},
     "output_type": "execute_result"
    }
   ],
   "source": [
    "def scalar_function(x, y):\n",
    "    \"\"\"\n",
    "    Returns the f(x,y) defined in the problem statement.\n",
    "    \"\"\"\n",
    "    return x*y if x < y else x/y\n",
    "    raise NotImplementedError\n",
    "\n",
    "scalar_function(4,2)"
   ]
  },
  {
   "cell_type": "markdown",
   "metadata": {},
   "source": [
    "Vector function"
   ]
  },
  {
   "cell_type": "code",
   "execution_count": 12,
   "metadata": {},
   "outputs": [
    {
     "data": {
      "text/plain": [
       "array([[0.89480634],\n",
       "       [1.3569368 ]])"
      ]
     },
     "execution_count": 12,
     "metadata": {},
     "output_type": "execute_result"
    }
   ],
   "source": [
    "def vector_function(x, y):\n",
    "    \"\"\"\n",
    "    Make sure vector_function can deal with vector input x,y \n",
    "    \"\"\"\n",
    "\n",
    "    # def _scalar_function(x, y):\n",
    "    #     return x*y if x < y else x/y\n",
    "\n",
    "    # def _vector_function(scalar_function):\n",
    "    #     func = scalar_function\n",
    "    #     return np.vectorize(func)\n",
    "\n",
    "    # return _vector_function(_scalar_function)(x, y)\n",
    "\n",
    "    return np.vectorize(lambda x,y: x*y if x<y else x/y)(x,y)\n",
    "\n",
    "dim = [2,1]\n",
    "x, y = np.random.random(dim), np.random.random(dim)\n",
    "\n",
    "vector_function(x, y)\n"
   ]
  }
 ],
 "metadata": {
  "interpreter": {
   "hash": "de82e9cc2c468cf27eccffd07c2bf6de77dc3502e27910382ff37db2ea5c9834"
  },
  "kernelspec": {
   "display_name": "Python 3.8.13 ('6.86x')",
   "language": "python",
   "name": "python3"
  },
  "language_info": {
   "codemirror_mode": {
    "name": "ipython",
    "version": 3
   },
   "file_extension": ".py",
   "mimetype": "text/x-python",
   "name": "python",
   "nbconvert_exporter": "python",
   "pygments_lexer": "ipython3",
   "version": "3.8.13"
  },
  "orig_nbformat": 4
 },
 "nbformat": 4,
 "nbformat_minor": 2
}
