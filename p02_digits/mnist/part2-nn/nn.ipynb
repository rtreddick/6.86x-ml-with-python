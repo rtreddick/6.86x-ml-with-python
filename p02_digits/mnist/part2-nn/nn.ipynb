{
 "cells": [
  {
   "cell_type": "code",
   "execution_count": 113,
   "metadata": {},
   "outputs": [],
   "source": [
    "import numpy as np\n",
    "\n",
    "\n",
    "def rectified_linear_unit(x):\n",
    "    \"\"\" Returns the ReLU of x, or the maximum between 0 and x.\"\"\"\n",
    "    return max(0,x)\n",
    "\n",
    "def rectified_linear_unit_derivative(x):\n",
    "    \"\"\" Returns the derivative of ReLU.\"\"\"\n",
    "    return 0 if x == 0 else 1\n",
    "\n",
    "def output_layer_activation(x):\n",
    "    \"\"\" Linear function, returns input as is. \"\"\"\n",
    "    return x\n",
    "\n",
    "def output_layer_activation_derivative(x):\n",
    "    \"\"\" Returns the derivative of a linear function: 1. \"\"\"\n",
    "    return 1"
   ]
  },
  {
   "cell_type": "code",
   "execution_count": 202,
   "metadata": {},
   "outputs": [],
   "source": [
    "# DO NOT CHANGE PARAMETERS (Initialized to floats instead of ints)\n",
    "input_to_hidden_weights = np.matrix('1. 1.; 1. 1.; 1. 1.')\n",
    "hidden_to_output_weights = np.matrix('1. 1. 1.')\n",
    "biases = np.matrix('0.; 0.; 0.')\n",
    "learning_rate = .001\n",
    "epochs_to_train = 10\n",
    "\n",
    "### Forward propagation ###\n",
    "# input_values = np.matrix([[x1],[x2]]) # 2 by 1\n",
    "input_values = np.matrix([[2],[1]])\n",
    "y = 10\n",
    "\n",
    "# Calculate the input and activation of the hidden layer\n",
    "hidden_layer_weighted_input = np.matmul(input_to_hidden_weights, input_values) # (3 by 1 matrix)\n",
    "hidden_layer_activation = np.vectorize(rectified_linear_unit)(hidden_layer_weighted_input) # (3 by 1 matrix)\n",
    "# output = hidden_to_output_weights @ hidden_layer_activation\n",
    "output = np.matmul(hidden_to_output_weights, hidden_layer_activation)\n",
    "activated_output = np.vectorize(output_layer_activation)(output)\n"
   ]
  },
  {
   "cell_type": "code",
   "execution_count": 203,
   "metadata": {},
   "outputs": [
    {
     "name": "stdout",
     "output_type": "stream",
     "text": [
      "[[1. 1. 1.]]\n",
      "[[3.]\n",
      " [3.]\n",
      " [3.]]\n",
      "[[9.]]\n",
      "[[9.]]\n"
     ]
    }
   ],
   "source": [
    "# print(input_to_hidden_weights)\n",
    "# print(input_values)\n",
    "# print(hidden_layer_weighted_input)\n",
    "print(hidden_to_output_weights)\n",
    "print(hidden_layer_activation)\n",
    "print(output)\n",
    "print(activated_output)"
   ]
  },
  {
   "cell_type": "code",
   "execution_count": 167,
   "metadata": {},
   "outputs": [
    {
     "name": "stdout",
     "output_type": "stream",
     "text": [
      "[[1]\n",
      " [1]\n",
      " [1]]\n",
      "[[1. 1. 1.]]\n",
      "[[9.]]\n",
      "[[9.]\n",
      " [9.]\n",
      " [9.]]\n"
     ]
    }
   ],
   "source": [
    "### Backpropagation ###\n",
    "\n",
    "# Compute gradients\n",
    "output_layer_error = activated_output - y\n",
    "hidden_layer_error = (\n",
    "    np.multiply(\n",
    "        np.vectorize(rectified_linear_unit_derivative)(hidden_layer_activation),\n",
    "        hidden_to_output_weights.transpose()\n",
    "    )\n",
    "    * activated_output\n",
    ")\n",
    "\n",
    "print(np.vectorize(rectified_linear_unit_derivative)(hidden_layer_activation))\n",
    "print(hidden_to_output_weights)\n",
    "print(activated_output)\n",
    "print(hidden_layer_error)\n"
   ]
  },
  {
   "cell_type": "code",
   "execution_count": 187,
   "metadata": {},
   "outputs": [
    {
     "name": "stdout",
     "output_type": "stream",
     "text": [
      "[[-3.]\n",
      " [-3.]\n",
      " [-3.]]\n"
     ]
    }
   ],
   "source": [
    "bias_gradients = hidden_layer_error\n",
    "hidden_to_output_weight_gradients = np.multiply(hidden_layer_activation, output_layer_error)\n",
    "\n",
    "# print(hidden_layer_activation)\n",
    "# print(output_layer_error)\n",
    "print(hidden_to_output_weight_gradients)\n",
    "# print(hidden_layer_error)\n",
    "# print(type(hidden_layer_error))\n",
    "# print(np.multiply(input_values.transpose(), hidden_layer_error))\n",
    "\n",
    "\n"
   ]
  },
  {
   "cell_type": "code",
   "execution_count": null,
   "metadata": {},
   "outputs": [],
   "source": [
    "# Use gradients to adjust weights and biases using gradient descent\n",
    "self.biases = self.biases - self.learning_rate * bias_gradients\n",
    "self.input_to_hidden_weights = self.input_to_hidden_weights - self.learning_rate * input_to_hidden_weight_gradients\n",
    "self.hidden_to_output_weights = self.hidden_to_output_weights - self.learning_rate * hidden_to_output_weight_gradients"
   ]
  }
 ],
 "metadata": {
  "kernelspec": {
   "display_name": "Python 3.8.0 ('6.86x')",
   "language": "python",
   "name": "python3"
  },
  "language_info": {
   "codemirror_mode": {
    "name": "ipython",
    "version": 3
   },
   "file_extension": ".py",
   "mimetype": "text/x-python",
   "name": "python",
   "nbconvert_exporter": "python",
   "pygments_lexer": "ipython3",
   "version": "3.8.0"
  },
  "orig_nbformat": 4,
  "vscode": {
   "interpreter": {
    "hash": "de3c63369a484d911f8bc6207db464beb71a07f6fafb161be5ed39101480d65d"
   }
  }
 },
 "nbformat": 4,
 "nbformat_minor": 2
}
